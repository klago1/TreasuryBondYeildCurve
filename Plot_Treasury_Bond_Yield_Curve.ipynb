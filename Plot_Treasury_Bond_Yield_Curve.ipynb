{
 "cells": [
  {
   "cell_type": "markdown",
   "metadata": {},
   "source": [
    "# Latest interest rate data from St. Louis Federal reserve"
   ]
  },
  {
   "cell_type": "code",
   "execution_count": 1,
   "metadata": {},
   "outputs": [],
   "source": [
    "# import requiered modules\n",
    "import pandas as pd\n",
    "msg=!pip install pandas-datareader\n",
    "import pandas_datareader.data as pdr\n",
    "import datetime\n",
    "import matplotlib.pyplot as plt\n",
    "from numpy import * \n",
    "from scipy import stats\n",
    "from numpy import * \n",
    "import matplotlib.scale as mscale\n",
    "import matplotlib.transforms as mtransforms\n",
    "import matplotlib.ticker as ticker\n",
    "from numpy import * \n",
    "import matplotlib.scale as mscale\n",
    "import matplotlib.transforms as mtransforms\n",
    "import matplotlib.ticker as ticker\n",
    "from IPython.display import display, Markdown, Latex, Math\n",
    "import ipywidgets as widgets\n",
    "from matplotlib.pyplot import FuncFormatter\n",
    "def log_10_product1(x, pos):\n",
    "    \"\"\"The two args are the value and tick position.\n",
    "    Label ticks with the product of the exponentiation\"\"\"\n",
    "    return '%.1f' % (x)\n",
    "def log_10_product(x, pos):\n",
    "    \"\"\"The two args are the value and tick position.\n",
    "    Label ticks with the product of the exponentiation\"\"\"\n",
    "    if x < 1 :\n",
    "        return '%.2f' % (x)\n",
    "    elif x <= 10 :\n",
    "        return '%.1f' % (x)\n",
    "    return '%.0f' % (x)\n",
    "#\n",
    "def YC(dat):\n",
    "    sprd=dat.DGS30[0]-dat.DGS1[0]\n",
    "    if sprd>=3.0:\n",
    "        yc='Steep'\n",
    "    elif sprd>=1.0:\n",
    "        yc='Normal'\n",
    "    else:\n",
    "        yc='Flat'\n",
    "        if sum(dat.iloc[0,4:]>dat.DGS30[0])>=2:\n",
    "            yc='Inverted'\n",
    "    return yc,sprd\n",
    "#"
   ]
  },
  {
   "cell_type": "markdown",
   "metadata": {},
   "source": [
    "Begin by downloading the latest data automaticaly, The St Louis Fed. keeps data on 30 year,\n",
    "20 year, 10 year, 5 year, 2year, 1 year, 3 month, and 1 month fixt rate treasury bon interest rates.\n",
    "The python  pandas data-reader package provides functionality to do this. You can see the requiered code\n",
    "by expanding the code sections designated by elipsies. The first code section above loads the requiered\n",
    "libraries and defines subroutines.\n",
    "\n"
   ]
  },
  {
   "cell_type": "code",
   "execution_count": 2,
   "metadata": {
    "collapsed": false
   },
   "outputs": [
    {
     "name": "stdout",
     "output_type": "stream",
     "text": [
      "The most current data from the St. Lois Fed.:\n"
     ]
    },
    {
     "data": {
      "text/html": [
       "<div>\n",
       "<style scoped>\n",
       "    .dataframe tbody tr th:only-of-type {\n",
       "        vertical-align: middle;\n",
       "    }\n",
       "\n",
       "    .dataframe tbody tr th {\n",
       "        vertical-align: top;\n",
       "    }\n",
       "\n",
       "    .dataframe thead th {\n",
       "        text-align: right;\n",
       "    }\n",
       "</style>\n",
       "<table border=\"1\" class=\"dataframe\">\n",
       "  <thead>\n",
       "    <tr style=\"text-align: right;\">\n",
       "      <th></th>\n",
       "      <th>DGS30</th>\n",
       "      <th>DGS20</th>\n",
       "      <th>DGS10</th>\n",
       "      <th>DGS5</th>\n",
       "      <th>DGS2</th>\n",
       "      <th>DGS1</th>\n",
       "      <th>DGS3MO</th>\n",
       "      <th>DGS1MO</th>\n",
       "    </tr>\n",
       "    <tr>\n",
       "      <th>DATE</th>\n",
       "      <th></th>\n",
       "      <th></th>\n",
       "      <th></th>\n",
       "      <th></th>\n",
       "      <th></th>\n",
       "      <th></th>\n",
       "      <th></th>\n",
       "      <th></th>\n",
       "    </tr>\n",
       "  </thead>\n",
       "  <tbody>\n",
       "    <tr>\n",
       "      <th>2019-01-17</th>\n",
       "      <td>3.07</td>\n",
       "      <td>2.93</td>\n",
       "      <td>2.75</td>\n",
       "      <td>2.58</td>\n",
       "      <td>2.56</td>\n",
       "      <td>2.57</td>\n",
       "      <td>2.42</td>\n",
       "      <td>2.41</td>\n",
       "    </tr>\n",
       "  </tbody>\n",
       "</table>\n",
       "</div>"
      ],
      "text/plain": [
       "            DGS30  DGS20  DGS10  DGS5  DGS2  DGS1  DGS3MO  DGS1MO\n",
       "DATE                                                             \n",
       "2019-01-17   3.07   2.93   2.75  2.58  2.56  2.57    2.42    2.41"
      ]
     },
     "execution_count": 2,
     "metadata": {},
     "output_type": "execute_result"
    }
   ],
   "source": [
    "start=datetime.datetime.now()-datetime.timedelta(days=30)\n",
    "end=datetime.datetime.now()\n",
    "lst=['DGS30','DGS20','DGS10','DGS5','DGS2','DGS1','DGS3MO','DGS1MO']\n",
    "t  =[30.0,      20.0,   10.0,  5.0,    2.0,   1.0,    0.25,  1/12.0]\n",
    "src='fred'\n",
    "dat=pdr.DataReader(lst,src,start,end).tail(1)\n",
    "print('The most current data from the St. Lois Fed.:')\n",
    "dat"
   ]
  },
  {
   "cell_type": "code",
   "execution_count": 3,
   "metadata": {
    "collapsed": false
   },
   "outputs": [
    {
     "data": {
      "text/latex": [
       "$\\displaystyle Yield\\ curve\\ for\\ 01/17/2019\\ is\\ Flat.\\ Spread: 0.50\\ \\ \\ Best\\ Fit:\\ Yeild=2.563191t^{0.038334}\\ \\ \\ R^2=0.846698$"
      ],
      "text/plain": [
       "<IPython.core.display.Math object>"
      ]
     },
     "execution_count": 3,
     "metadata": {},
     "output_type": "execute_result"
    },
    {
     "data": {
      "image/png": "[encoded data removed]",
      "text/plain": [
       "<Figure size 576x576 with 1 Axes>"
      ]
     },
     "metadata": {
      "needs_background": "light"
     },
     "output_type": "display_data"
    }
   ],
   "source": [
    "%matplotlib inline\n",
    "plt.figure(figsize=(8,8))\n",
    "v=dat.values[0]\n",
    "yc1=stats.linregress(log(t),log(v))\n",
    "a,b,r=yc1.slope,yc1.intercept,yc1.rvalue**2\n",
    "plt.plot(t,v,marker='o',linestyle='',color='red',label='Bond Yield')\n",
    "t1=linspace(.01,34,200)\n",
    "plt.plot(t1,exp(b)*power(t1,a),label='Best Fit Line')\n",
    "ax=plt.gca()\n",
    "ax.set_xscale('log')\n",
    "ax.set_yscale('log')\n",
    "formatter = FuncFormatter(log_10_product)\n",
    "formatter1= FuncFormatter(log_10_product1)\n",
    "ax.set_xticks([1.0/12,.25,1,2,5,10,20,30])\n",
    "ax.xaxis.set_major_formatter(formatter)\n",
    "ax.set_yticks(arange(.2,20,.2))\n",
    "ax.set_yticks([],minor=True)\n",
    "ax.yaxis.set_minor_formatter(formatter1)\n",
    "ax.yaxis.set_major_formatter(formatter1)\n",
    "ax.hlines(arange(1,20,1),plt.xlim()[0],plt.xlim()[1],linewidth=2)\n",
    "plt.grid()\n",
    "plt.xlim(.06,32)\n",
    "plt.ylim(min(v)-.25,max(v)+.5)\n",
    "plt.ylabel('Yield (%)')\n",
    "plt.xlabel('Maturity Period (Years)')\n",
    "plt.legend(loc='lower right')\n",
    "plt.title('Mean Fixed Rate Treasury Bond Yields for %s' % (dat.index[0].strftime('%m/%d/%Y')))\n",
    "yc,sprd=YC(dat)\n",
    "Math('$Yield\\ curve\\ for\\ %s\\ is\\ %s.\\ Spread: %.2f\\ \\ \\ Best\\ Fit:\\ Yeild=%ft^{%f}\\ \\ \\ R^2=%f$' %\\\n",
    "     (dat.index[0].strftime('%m/%d/%Y'),yc,sprd,exp(b),a,r))"
   ]
  },
  {
   "cell_type": "code",
   "execution_count": 4,
   "metadata": {
    "collapsed": false
   },
   "outputs": [
    {
     "data": {
      "text/html": [
       "<div>\n",
       "<style scoped>\n",
       "    .dataframe tbody tr th:only-of-type {\n",
       "        vertical-align: middle;\n",
       "    }\n",
       "\n",
       "    .dataframe tbody tr th {\n",
       "        vertical-align: top;\n",
       "    }\n",
       "\n",
       "    .dataframe thead th {\n",
       "        text-align: right;\n",
       "    }\n",
       "</style>\n",
       "<table border=\"1\" class=\"dataframe\">\n",
       "  <thead>\n",
       "    <tr style=\"text-align: right;\">\n",
       "      <th></th>\n",
       "      <th>DGS30</th>\n",
       "      <th>DGS20</th>\n",
       "      <th>DGS10</th>\n",
       "      <th>DGS5</th>\n",
       "      <th>DGS2</th>\n",
       "      <th>DGS1</th>\n",
       "      <th>DGS3MO</th>\n",
       "      <th>DGS1MO</th>\n",
       "    </tr>\n",
       "  </thead>\n",
       "  <tbody>\n",
       "    <tr>\n",
       "      <th>January 2019</th>\n",
       "      <td>3.0225</td>\n",
       "      <td>2.879167</td>\n",
       "      <td>2.701667</td>\n",
       "      <td>2.524167</td>\n",
       "      <td>2.528333</td>\n",
       "      <td>2.574167</td>\n",
       "      <td>2.435</td>\n",
       "      <td>2.41</td>\n",
       "    </tr>\n",
       "  </tbody>\n",
       "</table>\n",
       "</div>"
      ],
      "text/plain": [
       "               DGS30     DGS20     DGS10      DGS5      DGS2      DGS1  \\\n",
       "January 2019  3.0225  2.879167  2.701667  2.524167  2.528333  2.574167   \n",
       "\n",
       "              DGS3MO  DGS1MO  \n",
       "January 2019   2.435    2.41  "
      ]
     },
     "execution_count": 4,
     "metadata": {},
     "output_type": "execute_result"
    }
   ],
   "source": [
    "temp=datetime.datetime(end.year,end.month,end.day)\n",
    "this_month=((temp.replace(day=1),temp+datetime.timedelta(days=1)))\n",
    "#print(this_month)\n",
    "dat=pdr.DataReader(lst,src,this_month[0],this_month[1])\n",
    "tmM=pd.DataFrame(dat.mean()).transpose()\n",
    "tmM.index=pd.Index([this_month[0].strftime('%B %Y')])\n",
    "tmM"
   ]
  },
  {
   "cell_type": "code",
   "execution_count": 5,
   "metadata": {
    "collapsed": false
   },
   "outputs": [
    {
     "data": {
      "text/latex": [
       "$\\displaystyle \\ \\ \\ Yield\\ curve\\ for\\ January\\ 2019\\ as\\ of\\ 01/20/2019\\ is\\ Flat. Spread: nan\\ \\ \\ Best\\ Fit:\\ Yeild=2.548122t^{0.034101}\\ \\ \\ R^2=0.783147$"
      ],
      "text/plain": [
       "<IPython.core.display.Math object>"
      ]
     },
     "execution_count": 5,
     "metadata": {},
     "output_type": "execute_result"
    },
    {
     "data": {
      "image/png": "[encoded data removed]",
      "text/plain": [
       "<Figure size 576x576 with 1 Axes>"
      ]
     },
     "metadata": {
      "needs_background": "light"
     },
     "output_type": "display_data"
    }
   ],
   "source": [
    "plt.figure(figsize=(8,8))\n",
    "v=tmM.values[0]\n",
    "yc1=stats.linregress(log(t),log(v))\n",
    "a,b,r=yc1.slope,yc1.intercept,yc1.rvalue**2\n",
    "plt.plot(t,v,marker='o',linestyle='',color='red',label='Bond Yield')\n",
    "t1=linspace(.01,34,200)\n",
    "ax=plt.plot(t1,exp(b)*power(t1,a),label='Best Fit Line')\n",
    "ax=plt.gca()\n",
    "ax.set_xscale('log')\n",
    "ax.set_yscale('log')\n",
    "formatter = FuncFormatter(log_10_product)\n",
    "formatter1= FuncFormatter(log_10_product1)\n",
    "ax.set_xticks([1.0/12,.25,1,2,5,10,20,30])\n",
    "ax.xaxis.set_major_formatter(formatter)\n",
    "ax.set_yticks(arange(.2,20,.2))\n",
    "ax.set_yticks([],minor=True)\n",
    "ax.yaxis.set_minor_formatter(formatter1)\n",
    "ax.yaxis.set_major_formatter(formatter1)\n",
    "ax.hlines(arange(1,20,1),plt.xlim()[0],plt.xlim()[1],linewidth=2)                     \n",
    "plt.grid()\n",
    "plt.xlim(.06,32)\n",
    "plt.ylim(min(v)-.25,max(v)+.5)\n",
    "plt.ylabel('Yield (%)')\n",
    "plt.xlabel('Maturity Period (Years)')\n",
    "plt.legend(loc='lower right')\n",
    "plt.title('Mean Fixed Rate Treasury Bond Yields for %s\\nPlot date: %s' % (tmM.index[0],end.strftime('%m/%d/%Y')))\n",
    "yc,sprd=YC(dat)\n",
    "Math(r'\\ \\ \\ Yield\\ curve\\ for\\ %s\\ as\\ of\\ %s\\ is\\ %s. Spread: %.2f\\ \\ \\ Best\\ Fit:\\ Yeild=%ft^{%f}\\ \\ \\ R^2=%f' %\\\n",
    "     (tmM.index[0].replace(' ','\\\\ '),end.strftime('%m/%d/%Y'),yc,sprd,exp(b),a,r))"
   ]
  },
  {
   "cell_type": "code",
   "execution_count": 6,
   "metadata": {
    "collapsed": false
   },
   "outputs": [
    {
     "name": "stdout",
     "output_type": "stream",
     "text": [
      "(datetime.datetime(2018, 12, 1, 0, 0), datetime.datetime(2018, 12, 31, 0, 0))\n"
     ]
    },
    {
     "data": {
      "text/html": [
       "<div>\n",
       "<style scoped>\n",
       "    .dataframe tbody tr th:only-of-type {\n",
       "        vertical-align: middle;\n",
       "    }\n",
       "\n",
       "    .dataframe tbody tr th {\n",
       "        vertical-align: top;\n",
       "    }\n",
       "\n",
       "    .dataframe thead th {\n",
       "        text-align: right;\n",
       "    }\n",
       "</style>\n",
       "<table border=\"1\" class=\"dataframe\">\n",
       "  <thead>\n",
       "    <tr style=\"text-align: right;\">\n",
       "      <th></th>\n",
       "      <th>DGS30</th>\n",
       "      <th>DGS20</th>\n",
       "      <th>DGS10</th>\n",
       "      <th>DGS5</th>\n",
       "      <th>DGS2</th>\n",
       "      <th>DGS1</th>\n",
       "      <th>DGS3MO</th>\n",
       "      <th>DGS1MO</th>\n",
       "    </tr>\n",
       "  </thead>\n",
       "  <tbody>\n",
       "    <tr>\n",
       "      <th>December 2018</th>\n",
       "      <td>3.095789</td>\n",
       "      <td>2.976316</td>\n",
       "      <td>2.832632</td>\n",
       "      <td>2.681579</td>\n",
       "      <td>2.676316</td>\n",
       "      <td>2.655263</td>\n",
       "      <td>2.412105</td>\n",
       "      <td>2.365789</td>\n",
       "    </tr>\n",
       "  </tbody>\n",
       "</table>\n",
       "</div>"
      ],
      "text/plain": [
       "                  DGS30     DGS20     DGS10      DGS5      DGS2      DGS1  \\\n",
       "December 2018  3.095789  2.976316  2.832632  2.681579  2.676316  2.655263   \n",
       "\n",
       "                 DGS3MO    DGS1MO  \n",
       "December 2018  2.412105  2.365789  "
      ]
     },
     "execution_count": 6,
     "metadata": {},
     "output_type": "execute_result"
    }
   ],
   "source": [
    "temp=datetime.datetime(end.year,end.month,end.day)\n",
    "last_month=((temp.replace(day=1)-datetime.timedelta(days=1)).replace(day=1),temp.replace(day=1)-datetime.timedelta(days=1))\n",
    "print(last_month)\n",
    "dat=pdr.DataReader(lst,src,last_month[0],last_month[1])\n",
    "lmM=pd.DataFrame(dat.mean()).transpose()\n",
    "lmM.index=pd.Index([last_month[0].strftime('%B %Y')])\n",
    "lmM"
   ]
  },
  {
   "cell_type": "code",
   "execution_count": 7,
   "metadata": {
    "collapsed": false
   },
   "outputs": [
    {
     "data": {
      "text/latex": [
       "$\\displaystyle \\ \\ \\ Yield\\ curve\\ for\\ December\\ 2018\\ was\\ Flat. Spread: 0.55\\ \\ \\ Best\\ Fit:\\ Yeild=2.599124t^{0.043408}\\ \\ \\ R^2=0.945718$"
      ],
      "text/plain": [
       "<IPython.core.display.Math object>"
      ]
     },
     "execution_count": 7,
     "metadata": {},
     "output_type": "execute_result"
    },
    {
     "data": {
      "image/png": "[encoded data removed]",
      "text/plain": [
       "<Figure size 576x576 with 1 Axes>"
      ]
     },
     "metadata": {
      "needs_background": "light"
     },
     "output_type": "display_data"
    }
   ],
   "source": [
    "plt.figure(figsize=(8,8))\n",
    "v=lmM.values[0]\n",
    "yc1=stats.linregress(log(t),log(v))\n",
    "a,b,r=yc1.slope,yc1.intercept,yc1.rvalue**2\n",
    "plt.plot(t,v,marker='o',linestyle='',color='red',label='Bond Yield')\n",
    "t1=linspace(.01,34,200)\n",
    "ax=plt.plot(t1,exp(b)*power(t1,a),label='Best Fit Line')\n",
    "ax=plt.gca()\n",
    "ax.set_xscale('log')\n",
    "ax.set_yscale('log')\n",
    "formatter = FuncFormatter(log_10_product)\n",
    "formatter1= FuncFormatter(log_10_product1)\n",
    "ax.set_xticks([1.0/12,.25,1,2,5,10,20,30])\n",
    "ax.xaxis.set_major_formatter(formatter)\n",
    "ax.set_yticks(arange(.2,20,.2))\n",
    "ax.set_yticks([],minor=True)\n",
    "ax.yaxis.set_minor_formatter(formatter1)\n",
    "ax.yaxis.set_major_formatter(formatter1)\n",
    "ax.hlines(arange(1,20,1),plt.xlim()[0],plt.xlim()[1],linewidth=2)\n",
    "plt.grid()\n",
    "plt.xlim(.06,32)\n",
    "plt.ylim(min(v)-.25,max(v)+.5)\n",
    "plt.ylabel('Yield (%)')\n",
    "plt.xlabel('Maturity Period (Years)')\n",
    "plt.legend(loc='lower right')\n",
    "plt.title('Mean Fixed Rate Treasury Bond Yields for %s' % (lmM.index[0]))\n",
    "yc,sprd=YC(dat)\n",
    "Math(r'\\ \\ \\ Yield\\ curve\\ for\\ %s\\ was\\ %s. Spread: %.2f\\ \\ \\ Best\\ Fit:\\ Yeild=%ft^{%f}\\ \\ \\ R^2=%f' %\\\n",
    "     (lmM.index[0].replace(' ','\\\\ '),yc,sprd,exp(b),a,r))"
   ]
  },
  {
   "cell_type": "code",
   "execution_count": null,
   "metadata": {},
   "outputs": [],
   "source": []
  }
 ],
 "metadata": {
  "kernelspec": {
   "display_name": "Python 3",
   "language": "python",
   "name": "python3"
  },
  "language_info": {
   "codemirror_mode": {
    "name": "ipython",
    "version": 3
   },
   "file_extension": ".py",
   "mimetype": "text/x-python",
   "name": "python",
   "nbconvert_exporter": "python",
   "pygments_lexer": "ipython3",
   "version": "3.6.6"
  },
  "widgets": {
   "state": {},
   "version": "1.1.2"
  }
 },
 "nbformat": 4,
 "nbformat_minor": 2
}
